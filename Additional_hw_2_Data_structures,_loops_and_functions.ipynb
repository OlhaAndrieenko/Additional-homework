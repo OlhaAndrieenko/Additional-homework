{
 "cells": [
  {
   "cell_type": "markdown",
   "id": "69f335e6",
   "metadata": {
    "id": "69f335e6"
   },
   "source": [
    "1.Створіть множину (set) з наведеного спиcку та виведіть результат на екран. Чим відрізняється множина від списку?"
   ]
  },
  {
   "cell_type": "code",
   "execution_count": 2,
   "id": "aaeecf7e",
   "metadata": {
    "ExecuteTime": {
     "end_time": "2023-02-16T17:21:34.172161Z",
     "start_time": "2023-02-16T17:21:34.150021Z"
    },
    "id": "aaeecf7e"
   },
   "outputs": [],
   "source": [
    "input_list =  ['boat', 'bus', 'plane', 'train', 'boat', 'autobus', 'bus']"
   ]
  },
  {
   "cell_type": "code",
   "execution_count": 5,
   "id": "61d218e2",
   "metadata": {
    "id": "61d218e2"
   },
   "outputs": [
    {
     "name": "stdout",
     "output_type": "stream",
     "text": [
      "{'bus', 'train', 'autobus', 'plane', 'boat'}\n"
     ]
    }
   ],
   "source": [
    "set_list = set(input_list)\n",
    "print(set_list)"
   ]
  },
  {
   "cell_type": "markdown",
   "id": "d2dd9987",
   "metadata": {
    "id": "d2dd9987"
   },
   "source": [
    "Множина містить невпорядковані унікальні елементи. Список - це спорядкований набір будь-яких елементів."
   ]
  },
  {
   "cell_type": "markdown",
   "id": "5c7babdc",
   "metadata": {
    "id": "5c7babdc"
   },
   "source": [
    "2.Виведіть окремо ключі та окремо значення двома окремими списками наступного словника:"
   ]
  },
  {
   "cell_type": "code",
   "execution_count": 6,
   "id": "a00df81d",
   "metadata": {
    "ExecuteTime": {
     "end_time": "2023-02-16T17:32:23.162298Z",
     "start_time": "2023-02-16T17:32:23.152250Z"
    },
    "id": "a00df81d"
   },
   "outputs": [],
   "source": [
    "light_signals = {'green': 'go', 'yellow': 'get ready', 'red': 'stop'}"
   ]
  },
  {
   "cell_type": "code",
   "execution_count": 10,
   "id": "dc2cc322",
   "metadata": {
    "id": "dc2cc322"
   },
   "outputs": [
    {
     "data": {
      "text/plain": [
       "dict_keys(['green', 'yellow', 'red'])"
      ]
     },
     "execution_count": 10,
     "metadata": {},
     "output_type": "execute_result"
    }
   ],
   "source": [
    "light_signals.keys()"
   ]
  },
  {
   "cell_type": "code",
   "execution_count": 11,
   "id": "5a197c1b-b3c2-4a22-8799-fb5434c50dd6",
   "metadata": {},
   "outputs": [
    {
     "data": {
      "text/plain": [
       "dict_values(['go', 'get ready', 'stop'])"
      ]
     },
     "execution_count": 11,
     "metadata": {},
     "output_type": "execute_result"
    }
   ],
   "source": [
    "light_signals.values()"
   ]
  },
  {
   "cell_type": "markdown",
   "id": "0883eb80",
   "metadata": {
    "ExecuteTime": {
     "end_time": "2023-02-16T16:25:21.907981Z",
     "start_time": "2023-02-16T16:25:21.902740Z"
    },
    "id": "0883eb80"
   },
   "source": [
    "3.Напишіть фрагмент коду, що формує список всіх чисел між 1200 і 2700 (обидва включаючи), які деляться на 7 АБО на 5 без остачі. Виведіть результуючий список на екран."
   ]
  },
  {
   "cell_type": "code",
   "execution_count": 4,
   "id": "f3b8b3d3-30ae-4b1b-996f-90febf4266db",
   "metadata": {},
   "outputs": [
    {
     "name": "stdout",
     "output_type": "stream",
     "text": [
      "[1225, 1260, 1295, 1330, 1365, 1400, 1435, 1470, 1505, 1540, 1575, 1610, 1645, 1680, 1715, 1750, 1785, 1820, 1855, 1890, 1925, 1960, 1995, 2030, 2065, 2100, 2135, 2170, 2205, 2240, 2275, 2310, 2345, 2380, 2415, 2450, 2485, 2520, 2555, 2590, 2625, 2660, 2695]\n"
     ]
    }
   ],
   "source": [
    "new_list = []\n",
    "for i in range (1200, 2701):\n",
    "    if i % 7 == 0 and i % 5 == 0:\n",
    "        new_list.append(i)\n",
    "print(new_list)"
   ]
  },
  {
   "cell_type": "markdown",
   "id": "83ec4846",
   "metadata": {
    "ExecuteTime": {
     "end_time": "2023-02-16T16:28:06.826641Z",
     "start_time": "2023-02-16T16:28:06.822293Z"
    },
    "id": "83ec4846"
   },
   "source": [
    "4.Напишіть функцію, яка для заданого цілого числа виводить на екран наступну фігуру. Підказка - тут треба використати вкладені цикли for. Наприклад, для `n=5` фігура матиме наступний вигляд:\n",
    "\n",
    "```\n",
    "*\n",
    "* *\n",
    "* * *\n",
    "* * * *\n",
    "* * * * *\n",
    "* * * *\n",
    "* * *\n",
    "* *\n",
    "*\n",
    "```\n",
    "\n",
    "Запустіть фукнцію для значень n: 3, 5, 10."
   ]
  },
  {
   "cell_type": "code",
   "execution_count": 5,
   "id": "0bd87693",
   "metadata": {
    "id": "0bd87693"
   },
   "outputs": [
    {
     "name": "stdout",
     "output_type": "stream",
     "text": [
      "Для n = 3:\n",
      "* \n",
      "* * \n",
      "* * * \n",
      "* * \n",
      "* \n",
      "\n",
      "Для n = 5:\n",
      "* \n",
      "* * \n",
      "* * * \n",
      "* * * * \n",
      "* * * * * \n",
      "* * * * \n",
      "* * * \n",
      "* * \n",
      "* \n",
      "\n",
      "Для n = 10:\n",
      "* \n",
      "* * \n",
      "* * * \n",
      "* * * * \n",
      "* * * * * \n",
      "* * * * * * \n",
      "* * * * * * * \n",
      "* * * * * * * * \n",
      "* * * * * * * * * \n",
      "* * * * * * * * * * \n",
      "* * * * * * * * * \n",
      "* * * * * * * * \n",
      "* * * * * * * \n",
      "* * * * * * \n",
      "* * * * * \n",
      "* * * * \n",
      "* * * \n",
      "* * \n",
      "* \n"
     ]
    }
   ],
   "source": [
    "def print_figure(n):\n",
    "   for i in range(1, n + 1):\n",
    "        print('* ' * i)  \n",
    "   for i in range(n - 1, 0, -1):\n",
    "        print('* ' * i)  \n",
    "print(\"Для n = 3:\")\n",
    "print_figure(3)\n",
    "print(\"\\nДля n = 5:\")\n",
    "print_figure(5)\n",
    "print(\"\\nДля n = 10:\")\n",
    "print_figure(10)"
   ]
  },
  {
   "cell_type": "markdown",
   "id": "ce6f1afc",
   "metadata": {
    "id": "ce6f1afc"
   },
   "source": [
    "5.Напишіть функцію, яка вертає кількість парних та непарних чисел у наданому масиві. Функція має вертати два числа, а після функції створіть повідомлення, яке прописує, скільки було парних та непарних чисел у масиві.\n",
    "Приклад: для наступного входу\n",
    "```\n",
    "numbers = (1, 2, 11, 12, 13, 22, 27, 29)\n",
    "```\n",
    "Функція має повернути результат: `3, 5`.\n",
    "І далі Вам необхідно сформувати повідомлення, яке виведе наступне, використовуючи результат функції:\n",
    "```\n",
    "Кількість парних чисел : 3\n",
    "Кількість непарних : 5\n",
    "```\n",
    "Запустіть алгоритм функція+друк повідомлення для трьох наведених списків. Найзручніше це зробити, пройшовши по спискам у циклі."
   ]
  },
  {
   "cell_type": "code",
   "execution_count": 12,
   "id": "ca9634e0",
   "metadata": {
    "ExecuteTime": {
     "end_time": "2023-02-16T17:12:55.787310Z",
     "start_time": "2023-02-16T17:12:55.779497Z"
    },
    "id": "ca9634e0"
   },
   "outputs": [
    {
     "name": "stdout",
     "output_type": "stream",
     "text": [
      "Список 1:\n",
      "Кількість парних чисел: 3\n",
      "Кількість непарних чисел: 5\n",
      "\n",
      "Список 2:\n",
      "Кількість парних чисел: 3\n",
      "Кількість непарних чисел: 3\n",
      "\n",
      "Список 3:\n",
      "Кількість парних чисел: 5\n",
      "Кількість непарних чисел: 1\n",
      "\n"
     ]
    }
   ],
   "source": [
    "def count_even_odd (numbers):\n",
    "    even_count = 0\n",
    "    odd_count = 0\n",
    "    for number in numbers:\n",
    "        if number % 2 == 0:\n",
    "            even_count += 1\n",
    "        else:\n",
    "            odd_count += 1  \n",
    "    return even_count, odd_count\n",
    "\n",
    "numbers_1 = {1, 2, 11, 12, 13, 22, 27, 29}\n",
    "numbers_2 = {1, 22, 412, 312, 73, 3421}\n",
    "numbers_3 = {12, 11, 94, 722, 0, 452}\n",
    "\n",
    "number_lists = [numbers_1, numbers_2, numbers_3]\n",
    "\n",
    "for i, numbers in enumerate(number_lists, start=1):\n",
    "    even_count, odd_count = count_even_odd(numbers)\n",
    "    print(f\"Список {i}:\")\n",
    "    print(f\"Кількість парних чисел: {even_count}\")\n",
    "    print(f\"Кількість непарних чисел: {odd_count}\\n\")"
   ]
  },
  {
   "cell_type": "markdown",
   "id": "dad0c565",
   "metadata": {
    "ExecuteTime": {
     "end_time": "2023-02-16T16:55:03.692657Z",
     "start_time": "2023-02-16T16:55:03.646268Z"
    },
    "id": "dad0c565"
   },
   "source": [
    "6.Напишіть функцію, яка приймає на вхід список з назвами чогось та формує і виводить на екран повідомлення, у якому є всі елементи списку, а перед останнім елементом вставлено слово `and` (приклад - далі). Функція має працювати з будь-якими списками, довжина яких є більшою або рівною 2. Наприклад, для списку\n",
    "```\n",
    "cities = ['Budapest', 'Rome', 'Istanbul', 'Sydney', 'Kyiv']\n",
    "```\n",
    "функція має виводити на екран фразу:\n",
    "```\n",
    "'Budapest, Rome, Istanbul, Sydney and Kyiv'\n",
    "```\n",
    "Запустіть функцію на списках наведених нижче. Для останнього списку має виводитись помилка (exception) або повідомлення про те, що довжина списку має бути як мінімум 2."
   ]
  },
  {
   "cell_type": "code",
   "execution_count": null,
   "id": "530c7eb0",
   "metadata": {
    "ExecuteTime": {
     "end_time": "2023-02-16T17:04:38.117972Z",
     "start_time": "2023-02-16T17:04:38.112979Z"
    },
    "id": "530c7eb0"
   },
   "outputs": [],
   "source": [
    "list1 = ['Budapest', 'Rome', 'Istanbul', 'Sydney', 'Kyiv']\n",
    "list2 = ['USA', 'UK', 'Ukraine']\n",
    "list3 = ['apples', 'oranges']\n",
    "list4 = ['Titan']"
   ]
  },
  {
   "cell_type": "code",
   "execution_count": 13,
   "id": "e376d538",
   "metadata": {
    "id": "e376d538"
   },
   "outputs": [
    {
     "name": "stdout",
     "output_type": "stream",
     "text": [
      "Budapest, Rome, Istanbul, Sydney and Kyiv\n",
      "USA, UK and Ukraine\n",
      "apples and oranges\n",
      "Довжина списку має бути як мінімум 2.\n"
     ]
    }
   ],
   "source": [
    "def format_list_with_and(items):\n",
    "    \n",
    "    if len(items) < 2:\n",
    "        raise ValueError(\"Довжина списку має бути як мінімум 2.\")\n",
    "    \n",
    "    if len(items) == 2:\n",
    "        message = f\"{items[0]} and {items[1]}\"\n",
    "    else:\n",
    "        message = ', '.join(items[:-1]) + ' and ' + items[-1]\n",
    "    \n",
    "    print(message)\n",
    "\n",
    "\n",
    "list1 = ['Budapest', 'Rome', 'Istanbul', 'Sydney', 'Kyiv']\n",
    "list2 = ['USA', 'UK', 'Ukraine']\n",
    "list3 = ['apples', 'oranges']\n",
    "list4 = ['Titan']\n",
    "\n",
    "\n",
    "try:\n",
    "    format_list_with_and(list1)  \n",
    "    format_list_with_and(list2)   \n",
    "    format_list_with_and(list3)   \n",
    "    format_list_with_and(list4)   \n",
    "except ValueError as e:\n",
    "    print(e)"
   ]
  },
  {
   "cell_type": "markdown",
   "id": "5093dbef",
   "metadata": {
    "id": "5093dbef"
   },
   "source": [
    "7.Уявіть, що Ви створюєте пригодницьку гру і використовуєте для зберігання предметів гравця словник, у якому ключі - це назви предметів, значення - кількість одиниць кожної із речей. Наприклад, словник може виглядати так: things = {'ключ': 3, 'булава': 1, 'монета': 24, 'ніж': 1, 'горішки': 10, 'бронежелет': 0}. Створіть фукнцію, яка виводить повідомлення про усі речі гравця у такому вигляді:\n",
    "\n",
    "```\n",
    "У гравця є:\n",
    "3 ключ\n",
    "1 булава\n",
    "24 монета\n",
    "1 ніж\n",
    "10 горішки\n",
    "0 бронежелет\n",
    "Загальна кількість речей: 39\n",
    "```\n",
    "\n",
    "Викличіть фукнцію для наступних гравців:"
   ]
  },
  {
   "cell_type": "code",
   "execution_count": 6,
   "id": "f77ec586",
   "metadata": {
    "ExecuteTime": {
     "end_time": "2023-02-16T17:29:01.280430Z",
     "start_time": "2023-02-16T17:29:01.236841Z"
    },
    "id": "f77ec586"
   },
   "outputs": [],
   "source": [
    "player_1 = {'ключ': 3, 'булава': 1, 'монета': 24, 'ніж': 1, 'горішки': 10, 'бронежелет': 0}\n",
    "player_2 = {'ключ': 0, 'булава': 2, 'монета': 4, 'ніж': 3, 'горішки': 4, 'бронежелет': 1}\n",
    "player_3 = {'ключ': 0, 'булава': 0, 'монета': 30, 'ніж': 0, 'горішки': 2, 'бронежелет': 2}"
   ]
  },
  {
   "cell_type": "code",
   "execution_count": 7,
   "id": "94d669f9",
   "metadata": {
    "id": "94d669f9"
   },
   "outputs": [
    {
     "name": "stdout",
     "output_type": "stream",
     "text": [
      "У гравця є:\n",
      "3 ключ\n",
      "1 булава\n",
      "24 монета\n",
      "1 ніж\n",
      "10 горішки\n",
      "0 бронежелет\n",
      "Загальна кількість речей: 39\n",
      "У гравця є:\n",
      "0 ключ\n",
      "2 булава\n",
      "4 монета\n",
      "3 ніж\n",
      "4 горішки\n",
      "1 бронежелет\n",
      "Загальна кількість речей: 14\n",
      "У гравця є:\n",
      "0 ключ\n",
      "0 булава\n",
      "30 монета\n",
      "0 ніж\n",
      "2 горішки\n",
      "2 бронежелет\n",
      "Загальна кількість речей: 34\n"
     ]
    }
   ],
   "source": [
    "def show_player_items(player_items):\n",
    "    print(\"У гравця є:\")\n",
    "    total_items = 0 \n",
    "\n",
    "    for item, quantity in player_items.items():  \n",
    "        print(f\"{quantity} {item}\")  \n",
    "        total_items += quantity  \n",
    "\n",
    "    print(f\"Загальна кількість речей: {total_items}\") \n",
    "show_player_items(player_1)\n",
    "show_player_items(player_2)\n",
    "show_player_items(player_3)"
   ]
  },
  {
   "cell_type": "code",
   "execution_count": null,
   "id": "d5b54042-98b5-40b7-bece-3269d92f7ac1",
   "metadata": {},
   "outputs": [],
   "source": []
  }
 ],
 "metadata": {
  "colab": {
   "provenance": []
  },
  "kernelspec": {
   "display_name": "Python 3 (ipykernel)",
   "language": "python",
   "name": "python3"
  },
  "language_info": {
   "codemirror_mode": {
    "name": "ipython",
    "version": 3
   },
   "file_extension": ".py",
   "mimetype": "text/x-python",
   "name": "python",
   "nbconvert_exporter": "python",
   "pygments_lexer": "ipython3",
   "version": "3.12.4"
  },
  "toc": {
   "base_numbering": 1,
   "nav_menu": {},
   "number_sections": true,
   "sideBar": true,
   "skip_h1_title": false,
   "title_cell": "Table of Contents",
   "title_sidebar": "Contents",
   "toc_cell": false,
   "toc_position": {},
   "toc_section_display": true,
   "toc_window_display": false
  }
 },
 "nbformat": 4,
 "nbformat_minor": 5
}
